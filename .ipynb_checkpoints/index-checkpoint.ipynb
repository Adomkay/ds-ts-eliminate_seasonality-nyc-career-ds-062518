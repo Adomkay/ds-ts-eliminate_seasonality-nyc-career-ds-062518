{
 "cells": [
  {
   "cell_type": "markdown",
   "metadata": {},
   "source": [
    "# Eliminating Trend and Seasonality\n",
    "\n",
    "## Objectives\n",
    "\n",
    "* Remove non-stationarity of complex time-series with high seasonality.\n",
    "* Use Differencing and Decomposition techniques for making time-series stationary. \n",
    "* Compare the effectiveness of differencing vs. decomposition. \n",
    "\n",
    "## Introduction\n",
    "\n",
    "The simple trend reduction techniques discussed before don’t work in all cases, particularly the ones with high seasonality. Lets discuss two ways of removing trend and seasonality for such time-series. \n",
    "\n",
    "* **Differencing** – taking the differece with a particular time lag\n",
    "* **Decomposition** – modeling both trend and seasonality and removing them from the model.\n",
    "\n",
    "Let's once again import the passengers dataset and the `stationarity_check()` function from previous to apply these techniques and monitor the effect. \n"
   ]
  },
  {
   "cell_type": "code",
   "execution_count": 6,
   "metadata": {},
   "outputs": [],
   "source": [
    "#Import necessary libraries\n",
    "import warnings\n",
    "warnings.filterwarnings('ignore')\n",
    "\n",
    "import pandas as pd\n",
    "from pandas import Series\n",
    "import numpy as np\n",
    "\n",
    "import matplotlib.pylab as plt\n",
    "%matplotlib inline\n",
    "plt.style.use('fivethirtyeight')\n",
    "\n",
    "from matplotlib.pylab import rcParams\n",
    "rcParams['figure.figsize'] = 15, 6\n",
    "\n",
    "# Import adfuller\n",
    "\n",
    "\n",
    "# Import the check_stationarity function from previous lab\n",
    "\n",
    "# Import passengers.csv and set it as a time-series object. Plot the TS\n",
    "\n"
   ]
  },
  {
   "cell_type": "code",
   "execution_count": null,
   "metadata": {},
   "outputs": [],
   "source": []
  },
  {
   "cell_type": "markdown",
   "metadata": {},
   "source": [
    "## Differencing\n",
    "\n",
    "One of the most common methods of dealing with both trend and seasonality is differencing. In this technique, we take the difference of the observation at a particular instant with that at the previous instant (i.e. Lag).  This mostly works well in improving stationarity. First order differencing can be done in Pandas using the `shift()` function to shift the values in the index by a specified number of units of the index's period. Details of `.shift()` can be viewed [HERE](https://pandas.pydata.org/pandas-docs/stable/generated/pandas.DataFrame.shift.html).\n",
    "\n",
    "1. Take the log of ts. \n",
    "2. Apply `shift()` to the output of 1. Use period of 1 (set by default)\n",
    "3. subtract result of 2 from 1.\n",
    "4. Plot the resulting time-series"
   ]
  },
  {
   "cell_type": "code",
   "execution_count": 7,
   "metadata": {},
   "outputs": [],
   "source": [
    "# Calculate the difference of log transformed ts with shifted log transformed ts and plot.\n",
    "ts_log = None\n",
    "ts_log_diff = None"
   ]
  },
  {
   "cell_type": "code",
   "execution_count": null,
   "metadata": {},
   "outputs": [],
   "source": []
  },
  {
   "cell_type": "markdown",
   "metadata": {},
   "source": [
    "This appears to have reduced trend considerably. Lets verify if this actually worked. First drop the NaN values and then use `stationarity_check()` function. "
   ]
  },
  {
   "cell_type": "code",
   "execution_count": 8,
   "metadata": {},
   "outputs": [],
   "source": [
    "# Drop NANs and check for stationarity\n"
   ]
  },
  {
   "cell_type": "code",
   "execution_count": null,
   "metadata": {},
   "outputs": [],
   "source": []
  },
  {
   "cell_type": "markdown",
   "metadata": {},
   "source": [
    "We can see that the mean and std variations have small variations with time. Also, the Dickey-Fuller test statistic is less than the 10% critical value, thus the TS is stationary with 90% confidence. We can also take second or third order differences which might get even better results in certain applications. \n",
    "\n",
    "> **BONUS EXERCISE** Use second and third order differencing with `shift()` and compare the results. "
   ]
  },
  {
   "cell_type": "markdown",
   "metadata": {},
   "source": [
    "## Decomposing\n",
    "\n",
    "Time series decomposition is a mathematical procedure which transforms a time series into multiple different time series. The original time series is often split into 3 component series:\n",
    "\n",
    ">Seasonal: Patterns that repeat with a fixed period of time. For example, a website might receive more visits during weekends; this would produce data with a seasonality of 7 days.\n",
    "\n",
    ">Trend: The underlying trend of the metrics. A website increasing in popularity should show a general trend that goes up.\n",
    "\n",
    ">Random: Also call “noise”, “irregular” or “remainder,” this is the residuals of the original time series after the seasonal and trend series are removed.\n",
    "\n",
    "### Additive or Multiplicative Decomposition?\n",
    "\n",
    "To achieve successful decomposition, it is important to choose between the additive and multiplicative models, which requires analyzing the series. For example, does the magnitude of the seasonality increase when the time series increases?\n",
    "\n",
    "![](http://kourentzes.com/forecasting/wp-content/uploads/2014/11/mseas.fig1_.png)\n",
    "\n",
    "\n",
    "Fortunately, `statsmodels` provides the convenient `seasonal_decompose` function to perform such decomposition out of the box. Details of this function are available [HERE](http://www.statsmodels.org/dev/generated/statsmodels.tsa.seasonal.seasonal_decompose.html). \n",
    "\n",
    "Let's use this function to perform following tasks:\n",
    "1. Import `seasonal_decompose` from statsmodels.\n",
    "2. Apply `seasonal_decompose` to log transformed TS. \n",
    "3. Plot the trend, seasonality and residual. "
   ]
  },
  {
   "cell_type": "code",
   "execution_count": 9,
   "metadata": {},
   "outputs": [],
   "source": [
    "# import seasonal_decompose\n",
    "from statsmodels.tsa.seasonal import seasonal_decompose\n",
    "decomposition = None\n",
    "\n",
    "# Gather the trend, seasonality and noise of decomposed object\n",
    "trend = None\n",
    "seasonal = None\n",
    "residual = None\n",
    "\n",
    "# Plot gathered statistics\n"
   ]
  },
  {
   "cell_type": "code",
   "execution_count": null,
   "metadata": {},
   "outputs": [],
   "source": []
  },
  {
   "cell_type": "markdown",
   "metadata": {},
   "source": [
    "Here we can see that the trend, seasonality are separated out from data and we can model the residuals.\n",
    "\n",
    "Using time-series decomposition makes it easier to quickly identify a changing mean or variation in the data. The plot above clearly shows the upwards trend of our data, along with its yearly seasonality. These can be used to understand the structure of our time-series. The intuition behind time-series decomposition is important, as many forecasting methods build upon this concept of structured decomposition to produce forecasts.\n",
    "\n",
    "Lets check stationarity of residuals using our `check_stationarity()` function.\n",
    "\n",
    "NOTE: drop NaN values first. "
   ]
  },
  {
   "cell_type": "code",
   "execution_count": 10,
   "metadata": {},
   "outputs": [],
   "source": [
    "# Drop NaN values from residuals.\n",
    "\n",
    "\n",
    "# Check stationarity\n"
   ]
  },
  {
   "cell_type": "code",
   "execution_count": null,
   "metadata": {},
   "outputs": [],
   "source": []
  },
  {
   "cell_type": "markdown",
   "metadata": {},
   "source": [
    "The Dickey-Fuller test statistic is significantly lower than the 1% critical value. So this TS is very close to stationary. We can try more advanced decomposition techniques as well which can generate better results."
   ]
  },
  {
   "cell_type": "markdown",
   "metadata": {},
   "source": [
    "## Summary: \n",
    "In this lesson, we saw how to remove both trend and seasonality from a time-series using differencing and decomposition. We saw how decmoposition allows us to better model the time-series for further analysis. After these steps, we can perform predictive analyses and modelling with time-series data which will be covered in following lab. "
   ]
  }
 ],
 "metadata": {
  "kernelspec": {
   "display_name": "Python 3",
   "language": "python",
   "name": "python3"
  },
  "language_info": {
   "codemirror_mode": {
    "name": "ipython",
    "version": 3
   },
   "file_extension": ".py",
   "mimetype": "text/x-python",
   "name": "python",
   "nbconvert_exporter": "python",
   "pygments_lexer": "ipython3",
   "version": "3.6.4"
  }
 },
 "nbformat": 4,
 "nbformat_minor": 2
}
